{
 "cells": [
  {
   "cell_type": "markdown",
   "metadata": {},
   "source": [
    "# **Import Statements**"
   ]
  },
  {
   "cell_type": "code",
   "execution_count": null,
   "metadata": {},
   "outputs": [],
   "source": [
    "import sys\n",
    "root = \"C:\\\\Users\\\\saman\\\\OneDrive\\\\Documents\\\\GitHub\\\\Eyelid-Modeling\\\\\"\n",
    "sys.path.append(root)\n",
    "\n",
    "from utils.experiment_manager import Experiment\n",
    "from models.EMG_RNN import EMG_RNN_Wrapper, EMG_RNN\n",
    "from utils.data_management import Mat2TVT\n",
    "\n",
    "import torch\n",
    "import numpy as np\n",
    "import matplotlib.pyplot as plt\n",
    "import pickle\n",
    "\n",
    "%load_ext autoreload\n",
    "%autoreload 2\n",
    "\n",
    "torch.cuda.is_available()"
   ]
  },
  {
   "cell_type": "markdown",
   "metadata": {},
   "source": [
    "# **Data Reorganization** <br>\n"
   ]
  },
  {
   "cell_type": "code",
   "execution_count": null,
   "metadata": {},
   "outputs": [],
   "source": [
    "eye_bool = np.asarray([True, True, False, True, True, False, False, False])\n",
    "electrode_list = ['u1', 'u2', 'u3', 'u4', 't2']\n",
    "marker_list = ['u1', 'u2', 'u3', 'u4', 'u5']\n",
    "filepath = root + 'eyeliddata.mat'\n",
    "\n",
    "train = 0.7\n",
    "val = 0.2\n",
    "test = 0.1\n",
    "\n",
    "reorganizer = Mat2TVT(eye_bool, electrode_list, marker_list, filepath)\n",
    "_, _, identifier = reorganizer.load_data()\n",
    "X, y = reorganizer.DMVC_norm()\n",
    "TVT_dict = reorganizer.TVT_split(train, val, test)"
   ]
  },
  {
   "cell_type": "markdown",
   "metadata": {},
   "source": [
    "# **Run Experiments**"
   ]
  },
  {
   "cell_type": "code",
   "execution_count": null,
   "metadata": {},
   "outputs": [
    {
     "name": "stderr",
     "output_type": "stream",
     "text": [
      "[I 2025-03-13 14:04:55,089] A new study created in memory with name: no-name-80d12018-5317-4f25-92c3-0c458f4a9365\n"
     ]
    },
    {
     "name": "stdout",
     "output_type": "stream",
     "text": [
      "Epoch 1\n",
      "-------------------------------\n",
      "Epoch 1\n",
      "-------------------------------\n",
      "(207, 683, 14, 5)\n",
      "(207, 195, 14, 5)\n",
      "Epoch 1\n",
      "-------------------------------\n",
      "(268, 683, 35, 5)\n"
     ]
    },
    {
     "name": "stderr",
     "output_type": "stream",
     "text": [
      "[I 2025-03-13 14:04:57,300] Trial 1 finished with value: 132.1177215576172 and parameters: {'t_win': np.float64(34.0), 't_stride': np.float64(48.0), 't_lookahead': np.float64(58.0), 'win_mode': 'win_fft', 'p_transform': np.float64(0.494949494949495), 'sigma': np.float64(2.4242424242424243), 'p_mask': np.float64(0.15151515151515152), 'batch_size': 128, 'learning_rate': np.float64(0.0004008075951903807), 'dropout': np.float64(0.30303030303030304), 'RNN_hdim': 4, 'RNN_depth': 6}. Best is trial 1 with value: 132.1177215576172.\n"
     ]
    },
    {
     "name": "stdout",
     "output_type": "stream",
     "text": [
      "Validation Error: \n",
      " Max Marker Error: 8302.1%, Avg Marker Error: 132.1%, Avg loss: 1.194376 \n",
      "\n",
      "Done!\n",
      "(268, 195, 35, 5)\n",
      "Epoch 1\n",
      "-------------------------------\n"
     ]
    },
    {
     "name": "stderr",
     "output_type": "stream",
     "text": [
      "[I 2025-03-13 14:05:03,522] Trial 0 finished with value: 118.05926513671875 and parameters: {'t_win': np.float64(44.0), 't_stride': np.float64(19.0), 't_lookahead': np.float64(85.0), 'win_mode': 'win_fft', 'p_transform': np.float64(0.06060606060606061), 'sigma': np.float64(1.0606060606060606), 'p_mask': np.float64(0.3585858585858586), 'batch_size': 32, 'learning_rate': np.float64(0.0002865802805611222), 'dropout': np.float64(0.8080808080808082), 'RNN_hdim': 4, 'RNN_depth': 5}. Best is trial 0 with value: 118.05926513671875.\n"
     ]
    },
    {
     "name": "stdout",
     "output_type": "stream",
     "text": [
      "Validation Error: \n",
      " Max Marker Error: 3464.0%, Avg Marker Error: 118.1%, Avg loss: 1.088197 \n",
      "\n",
      "Done!\n"
     ]
    },
    {
     "name": "stderr",
     "output_type": "stream",
     "text": [
      "[I 2025-03-13 14:05:03,797] Trial 2 finished with value: 134.60572814941406 and parameters: {'t_win': np.float64(30.0), 't_stride': np.float64(28.0), 't_lookahead': np.float64(61.0), 'win_mode': 'win_rect', 'p_transform': np.float64(0.696969696969697), 'sigma': np.float64(4.646464646464646), 'p_mask': np.float64(0.04040404040404041), 'batch_size': 16, 'learning_rate': np.float64(8.02595190380756e-06), 'dropout': np.float64(0.686868686868687), 'RNN_hdim': 4, 'RNN_depth': 3}. Best is trial 0 with value: 118.05926513671875.\n"
     ]
    },
    {
     "name": "stdout",
     "output_type": "stream",
     "text": [
      "Validation Error: \n",
      " Max Marker Error: 4508.8%, Avg Marker Error: 134.6%, Avg loss: 1.211936 \n",
      "\n",
      "Done!\n"
     ]
    },
    {
     "name": "stderr",
     "output_type": "stream",
     "text": [
      "[I 2025-03-13 14:05:11,679] Trial 3 finished with value: 95.43415069580078 and parameters: {'t_win': np.float64(43.0), 't_stride': np.float64(36.0), 't_lookahead': np.float64(63.0), 'win_mode': 'win_rect', 'p_transform': np.float64(0.8787878787878789), 'sigma': np.float64(2.7777777777777777), 'p_mask': np.float64(0.42929292929292934), 'batch_size': 4, 'learning_rate': np.float64(0.00025050849699398794), 'dropout': np.float64(0.7676767676767677), 'RNN_hdim': 64, 'RNN_depth': 6}. Best is trial 3 with value: 95.43415069580078.\n"
     ]
    },
    {
     "name": "stdout",
     "output_type": "stream",
     "text": [
      "Validation Error: \n",
      " Max Marker Error: 1144.9%, Avg Marker Error: 95.4%, Avg loss: 1.060676 \n",
      "\n",
      "Done!\n",
      "Best Params:\n",
      "_________________________________________________________________________________________________________\n",
      "    t_win: 43.0\n",
      "    t_stride: 36.0\n",
      "    t_lookahead: 63.0\n",
      "    win_mode: win_rect\n",
      "    p_transform: 0.8787878787878789\n",
      "    sigma: 2.7777777777777777\n",
      "    p_mask: 0.42929292929292934\n",
      "    batch_size: 4\n",
      "    learning_rate: 0.00025050849699398794\n",
      "    dropout: 0.7676767676767677\n",
      "    RNN_hdim: 64\n",
      "    RNN_depth: 6\n"
     ]
    }
   ],
   "source": [
    "params = {\n",
    "    't_win': np.arange(10,51,1, dtype = float),\n",
    "    't_stride': np.arange(10, 51, 1, dtype = float),\n",
    "    't_lookahead': np.arange(50, 101, 1, dtype = float),\n",
    "    'win_mode': ['win_fft', 'win_rect'],\n",
    "    'p_transform': np.linspace(0, 1, 100, dtype = float),\n",
    "    'sigma': np.linspace(0, 5, 100, dtype = float),\n",
    "    'p_mask': np.linspace(0, 0.5, 100, dtype = float),\n",
    "    'batch_size': [4, 8, 16, 32, 64, 128],\n",
    "    'learning_rate': np.linspace(1e-3, 1e-8, 500, dtype = float),\n",
    "    'dropout': np.linspace(0, 1, 100, dtype = float),\n",
    "    'RNN_hdim': [4, 8, 16, 32, 64, 128],\n",
    "    'RNN_depth': [2, 3, 4, 5, 6, 7, 8, 9, 10]\n",
    "}\n",
    "\n",
    "experiment = Experiment()\n",
    "model = EMG_RNN_Wrapper()\n",
    "best_params = experiment(params, TVT_dict, model, n_trials = 500, epochs = 500, patience = 100) \n",
    "\n",
    "print(\"Best Params:\\n_________________________________________________________________________________________________________\")\n",
    "for key, value in best_params.items():\n",
    "    print('    {}: {}'.format(key, value))"
   ]
  },
  {
   "cell_type": "markdown",
   "metadata": {},
   "source": [
    "# **Training Model with Best Params**"
   ]
  },
  {
   "cell_type": "code",
   "execution_count": null,
   "metadata": {},
   "outputs": [],
   "source": [
    "metrics = experiment.run_experiment(best_params, TVT_dict, model, epochs = 1000, patience = 200)\n",
    "\n",
    "'''\n",
    "Saving Model, Training Metrics, and Best Params\n",
    "'''\n",
    "with open(\"training_metrics.pickle\", \"wb\") as file:\n",
    "    pickle.dump(metrics, file)\n",
    "with open(\"best_params.pickle\", \"wb\") as file:\n",
    "    pickle.dump(best_params, file)"
   ]
  },
  {
   "cell_type": "markdown",
   "metadata": {},
   "source": [
    "# **Plotting Loss Metrics**"
   ]
  },
  {
   "cell_type": "code",
   "execution_count": null,
   "metadata": {},
   "outputs": [],
   "source": [
    "plt.plot(metrics['Training Loss'], label = 'Training Loss', marker = '.')\n",
    "plt.plot(metrics['Validation Loss'], label = 'Validation Loss', marker = '.')\n",
    "plt.yscale('log')\n",
    "plt.title('Loss vs. Epoch')\n",
    "plt.xlabel('Epochs')\n",
    "plt.ylabel('Loss')\n",
    "plt.legend()\n",
    "plt.show()\n",
    "\n",
    "plt.plot(metrics['Training Avg Marker Error'], label = 'Training Error', marker = '.')\n",
    "plt.plot(metrics['Validation Avg Marker Error'], label = 'Validation Error', marker = '.')\n",
    "plt.yscale('log')\n",
    "plt.title('Average Marker Error vs. Epoch')\n",
    "plt.xlabel('Epochs')\n",
    "plt.ylabel('Average Marker Error')\n",
    "plt.legend()\n",
    "plt.show()\n",
    "\n",
    "plt.plot(metrics['Training Max Marker Error'], label = 'Training Error', marker = '.')\n",
    "plt.plot(metrics['Validation Max Marker Error'], label = 'Validation Error', marker = '.')\n",
    "plt.yscale('log')\n",
    "plt.title('Max Marker Error vs. Epoch')\n",
    "plt.xlabel('Epochs')\n",
    "plt.ylabel('Max Marker Error')\n",
    "plt.legend()\n",
    "plt.show()"
   ]
  }
 ],
 "metadata": {
  "kernelspec": {
   "display_name": "pytorch_GPU",
   "language": "python",
   "name": "python3"
  },
  "language_info": {
   "codemirror_mode": {
    "name": "ipython",
    "version": 3
   },
   "file_extension": ".py",
   "mimetype": "text/x-python",
   "name": "python",
   "nbconvert_exporter": "python",
   "pygments_lexer": "ipython3",
   "version": "3.13.2"
  }
 },
 "nbformat": 4,
 "nbformat_minor": 2
}
