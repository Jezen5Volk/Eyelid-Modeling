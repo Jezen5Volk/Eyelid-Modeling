{
 "cells": [
  {
   "cell_type": "markdown",
   "metadata": {},
   "source": [
    "# **Import Statements**"
   ]
  },
  {
   "cell_type": "code",
   "execution_count": null,
   "metadata": {},
   "outputs": [],
   "source": [
    "import sys\n",
    "root = \"C:\\\\Users\\\\saman\\\\OneDrive\\\\Documents\\\\GitHub\\\\Eyelid-Modeling\\\\\"\n",
    "sys.path.append(root)\n",
    "\n",
    "from utils.experiment_manager import Experiment\n",
    "from models.EMG_RNN import EMG_RNN_Wrapper, EMG_RNN\n",
    "from utils.data_management import Mat2TVT\n",
    "\n",
    "import torch\n",
    "import numpy as np\n",
    "import matplotlib.pyplot as plt\n",
    "import pickle\n",
    "\n",
    "%load_ext autoreload\n",
    "%autoreload 2\n",
    "\n",
    "torch.cuda.is_available()"
   ]
  },
  {
   "cell_type": "markdown",
   "metadata": {},
   "source": [
    "# **Data Reorganization** <br>\n"
   ]
  },
  {
   "cell_type": "code",
   "execution_count": null,
   "metadata": {},
   "outputs": [],
   "source": [
    "eye_bool = np.asarray([True, True, False, True, True, False, False, False])\n",
    "electrode_list = ['u1', 'u2', 'u3', 'u4', 't2']\n",
    "marker_list = ['u1', 'u2', 'u3', 'u4', 'u5']\n",
    "filepath = root + 'eyeliddata.mat'\n",
    "\n",
    "train = 0.7\n",
    "val = 0.2\n",
    "test = 0.1\n",
    "\n",
    "reorganizer = Mat2TVT(eye_bool, electrode_list, marker_list, filepath)\n",
    "_, _, identifier = reorganizer.load_data()\n",
    "X, y = reorganizer.DMVC_norm()\n",
    "TVT_dict = reorganizer.TVT_split(train, val, test)"
   ]
  },
  {
   "cell_type": "markdown",
   "metadata": {},
   "source": [
    "# **Run Experiments**"
   ]
  },
  {
   "cell_type": "code",
   "execution_count": 11,
   "metadata": {},
   "outputs": [
    {
     "name": "stderr",
     "output_type": "stream",
     "text": [
      "[I 2025-03-13 14:00:37,161] A new study created in memory with name: no-name-63cfc54a-651c-48e1-9f52-f83591f48763\n"
     ]
    },
    {
     "name": "stdout",
     "output_type": "stream",
     "text": [
      "Epoch 1\n",
      "-------------------------------\n",
      "(103, 683, 28, 5)\n",
      "Epoch 1\n",
      "-------------------------------\n",
      "(103, 195, 28, 5)\n",
      "Epoch 1\n",
      "-------------------------------\n",
      "(274, 683, 20, 5)\n",
      "(274, 195, 20, 5)\n",
      "Epoch 1\n",
      "-------------------------------\n"
     ]
    },
    {
     "name": "stderr",
     "output_type": "stream",
     "text": [
      "[I 2025-03-13 14:00:41,231] Trial 1 finished with value: 1.2658922672271729 and parameters: {'t_win': np.float64(22.0), 't_stride': np.float64(27.0), 't_lookahead': np.float64(92.0), 'win_mode': 'win_rect', 'p_transform': np.float64(0.98989898989899), 'sigma': np.float64(4.393939393939394), 'p_mask': np.float64(0.3888888888888889), 'batch_size': 64, 'learning_rate': np.float64(8.217350701402804e-05), 'dropout': np.float64(0.7373737373737375), 'RNN_hdim': 64, 'RNN_depth': 8}. Best is trial 1 with value: 1.2658922672271729.\n"
     ]
    },
    {
     "name": "stdout",
     "output_type": "stream",
     "text": [
      "Validation Error: \n",
      " Max Marker Error: 10737.6%, Avg Marker Error: 139.8%, Avg loss: 1.265892 \n",
      "\n",
      "Done!\n"
     ]
    },
    {
     "name": "stderr",
     "output_type": "stream",
     "text": [
      "[I 2025-03-13 14:01:03,631] Trial 3 finished with value: 1.0734647512435913 and parameters: {'t_win': np.float64(45.0), 't_stride': np.float64(32.0), 't_lookahead': np.float64(93.0), 'win_mode': 'win_fft', 'p_transform': np.float64(0.030303030303030304), 'sigma': np.float64(1.6666666666666667), 'p_mask': np.float64(0.24242424242424243), 'batch_size': 4, 'learning_rate': np.float64(8.618148296593185e-05), 'dropout': np.float64(0.9191919191919192), 'RNN_hdim': 64, 'RNN_depth': 4}. Best is trial 3 with value: 1.0734647512435913.\n"
     ]
    },
    {
     "name": "stdout",
     "output_type": "stream",
     "text": [
      "Validation Error: \n",
      " Max Marker Error: 1462.7%, Avg Marker Error: 100.2%, Avg loss: 1.073465 \n",
      "\n",
      "Done!\n"
     ]
    },
    {
     "name": "stderr",
     "output_type": "stream",
     "text": [
      "[I 2025-03-13 14:01:07,379] Trial 0 finished with value: 1.0652488470077515 and parameters: {'t_win': np.float64(17.0), 't_stride': np.float64(24.0), 't_lookahead': np.float64(56.0), 'win_mode': 'win_fft', 'p_transform': np.float64(0.7070707070707072), 'sigma': np.float64(4.94949494949495), 'p_mask': np.float64(0.10606060606060606), 'batch_size': 4, 'learning_rate': np.float64(0.0008356729859719439), 'dropout': np.float64(0.6161616161616162), 'RNN_hdim': 16, 'RNN_depth': 2}. Best is trial 0 with value: 1.0652488470077515.\n"
     ]
    },
    {
     "name": "stdout",
     "output_type": "stream",
     "text": [
      "Validation Error: \n",
      " Max Marker Error: 7369.0%, Avg Marker Error: 99.9%, Avg loss: 1.065249 \n",
      "\n",
      "Done!\n"
     ]
    },
    {
     "name": "stderr",
     "output_type": "stream",
     "text": [
      "[I 2025-03-13 14:01:07,989] Trial 2 finished with value: 1.139564037322998 and parameters: {'t_win': np.float64(18.0), 't_stride': np.float64(12.0), 't_lookahead': np.float64(57.0), 'win_mode': 'win_rect', 'p_transform': np.float64(0.797979797979798), 'sigma': np.float64(2.121212121212121), 'p_mask': np.float64(0.21717171717171718), 'batch_size': 8, 'learning_rate': np.float64(0.00024650052104208413), 'dropout': np.float64(0.797979797979798), 'RNN_hdim': 4, 'RNN_depth': 5}. Best is trial 0 with value: 1.0652488470077515.\n"
     ]
    },
    {
     "name": "stdout",
     "output_type": "stream",
     "text": [
      "Validation Error: \n",
      " Max Marker Error: 2488.0%, Avg Marker Error: 107.8%, Avg loss: 1.139564 \n",
      "\n",
      "Done!\n",
      "Best Params:\n",
      "_________________________________________________________________________________________________________\n",
      "    t_win: 17.0\n",
      "    t_stride: 24.0\n",
      "    t_lookahead: 56.0\n",
      "    win_mode: win_fft\n",
      "    p_transform: 0.7070707070707072\n",
      "    sigma: 4.94949494949495\n",
      "    p_mask: 0.10606060606060606\n",
      "    batch_size: 4\n",
      "    learning_rate: 0.0008356729859719439\n",
      "    dropout: 0.6161616161616162\n",
      "    RNN_hdim: 16\n",
      "    RNN_depth: 2\n"
     ]
    }
   ],
   "source": [
    "params = {\n",
    "    't_win': np.arange(10,51,1, dtype = float),\n",
    "    't_stride': np.arange(10, 51, 1, dtype = float),\n",
    "    't_lookahead': np.arange(50, 101, 1, dtype = float),\n",
    "    'win_mode': ['win_fft', 'win_rect'],\n",
    "    'p_transform': np.linspace(0, 1, 100, dtype = float),\n",
    "    'sigma': np.linspace(0, 5, 100, dtype = float),\n",
    "    'p_mask': np.linspace(0, 0.5, 100, dtype = float),\n",
    "    'batch_size': [4, 8, 16, 32, 64, 128],\n",
    "    'learning_rate': np.linspace(1e-3, 1e-8, 500, dtype = float),\n",
    "    'dropout': np.linspace(0, 1, 100, dtype = float),\n",
    "    'RNN_hdim': [4, 8, 16, 32, 64, 128],\n",
    "    'RNN_depth': [2, 3, 4, 5, 6, 7, 8, 9, 10]\n",
    "}\n",
    "\n",
    "experiment = Experiment()\n",
    "model = EMG_RNN_Wrapper()\n",
    "best_params = experiment(params, TVT_dict, model, n_trials = 4, epochs = 1, patience = 50) #400, 100, 50\n",
    "\n",
    "print(\"Best Params:\\n_________________________________________________________________________________________________________\")\n",
    "for key, value in best_params.items():\n",
    "    print('    {}: {}'.format(key, value))"
   ]
  },
  {
   "cell_type": "markdown",
   "metadata": {},
   "source": [
    "# **Training Model with Best Params**"
   ]
  },
  {
   "cell_type": "code",
   "execution_count": null,
   "metadata": {},
   "outputs": [],
   "source": [
    "metrics = experiment.run_experiment(best_params, TVT_dict, model, epochs = 500, patience = 100)\n",
    "\n",
    "'''\n",
    "Saving Model, Training Metrics, and Best Params\n",
    "'''\n",
    "with open(\"training_metrics.pickle\", \"wb\") as file:\n",
    "    pickle.dump(metrics, file)\n",
    "with open(\"best_params.pickle\", \"wb\") as file:\n",
    "    pickle.dump(best_params, file)"
   ]
  },
  {
   "cell_type": "markdown",
   "metadata": {},
   "source": [
    "# **Plotting Loss Metrics**"
   ]
  },
  {
   "cell_type": "code",
   "execution_count": null,
   "metadata": {},
   "outputs": [],
   "source": [
    "plt.plot(metrics['Training Loss'], label = 'Training Loss', marker = '.')\n",
    "plt.plot(metrics['Validation Loss'], label = 'Validation Loss', marker = '.')\n",
    "plt.yscale('log')\n",
    "plt.title('Loss vs. Epoch')\n",
    "plt.xlabel('Epochs')\n",
    "plt.ylabel('Loss')\n",
    "plt.legend()\n",
    "plt.show()\n",
    "\n",
    "plt.plot(metrics['Training Avg Marker Error'], label = 'Training Error', marker = '.')\n",
    "plt.plot(metrics['Validation Avg Marker Error'], label = 'Validation Error', marker = '.')\n",
    "plt.yscale('log')\n",
    "plt.title('Average Marker Error vs. Epoch')\n",
    "plt.xlabel('Epochs')\n",
    "plt.ylabel('Average Marker Error')\n",
    "plt.legend()\n",
    "plt.show()\n",
    "\n",
    "plt.plot(metrics['Training Max Marker Error'], label = 'Training Error', marker = '.')\n",
    "plt.plot(metrics['Validation Max Marker Error'], label = 'Validation Error', marker = '.')\n",
    "plt.yscale('log')\n",
    "plt.title('Max Marker Error vs. Epoch')\n",
    "plt.xlabel('Epochs')\n",
    "plt.ylabel('Max Marker Error')\n",
    "plt.legend()\n",
    "plt.show()"
   ]
  }
 ],
 "metadata": {
  "kernelspec": {
   "display_name": "pytorch_GPU",
   "language": "python",
   "name": "python3"
  },
  "language_info": {
   "codemirror_mode": {
    "name": "ipython",
    "version": 3
   },
   "file_extension": ".py",
   "mimetype": "text/x-python",
   "name": "python",
   "nbconvert_exporter": "python",
   "pygments_lexer": "ipython3",
   "version": "3.13.2"
  }
 },
 "nbformat": 4,
 "nbformat_minor": 2
}
