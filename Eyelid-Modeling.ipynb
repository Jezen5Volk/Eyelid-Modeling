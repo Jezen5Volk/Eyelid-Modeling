{
 "cells": [
  {
   "cell_type": "code",
   "execution_count": null,
   "metadata": {},
   "outputs": [],
   "source": [
    "import torch\n",
    "import numpy as np\n",
    "import scipy.io\n",
    "\n",
    "\n",
    "\n",
    "mat = scipy.io.loadmat('eyeliddata.mat', simplify_cells = True)\n",
    "torch.cuda.is_available()"
   ]
  },
  {
   "cell_type": "markdown",
   "metadata": {},
   "source": [
    "# **Data Reorganization** <br>\n",
    "Going from provided matlab file to train-test-val splits\n",
    "\n",
    "For a single trial, \n",
    "\n",
    "- Marker kinematics are provided at 400 Hz, shape (300, 3) --> 0.75 s\n",
    "- EMG information is provided at 6103.5 Hz, shape (4564,) --> 0.7478 s\n",
    "\n",
    "Marker and EMG data are time-synced. Blinking starts at around 0.25 seconds, which corresponds to point 100 for the kinematics data and point 1525 in the EMG data\n",
    "\n",
    "Since only electrodes u1, u2, u3, u4, and t2 were used in common across all participants, our input to the model (without spectral preprocessing) will be of shape (4564, N, 5). Since only markerset x1, x2, A, B, C, D, E were used in common across all participants, our labels will be of shape (N, 7, 300, 3). In other words, $x \\in R^{T_{\\mathrm{in}}\\times N \\times C_{\\mathrm{in}}}$, where $T_{\\mathrm{in}}$ is the number of timesteps (4564, in this case), N is the batch size, and $C_{\\mathrm{in}}$ is the number of channels (5, in this case), while $y \\in R^{T_{\\mathrm{out}}\\times 3\\times N \\times C_{\\mathrm{out}}}$, where where $T_{\\mathrm{out}}$ is the number of timesteps (300 x 3, in this case), N is the batch size, and $C_{\\mathrm{out}}$ is the number of channels (7, in this case).\n",
    "\n",
    "To reorganize the data for train-test-val splits, the Nth data/label pair should contain the time series for emg electrodes u1, u2, u3, u4, t2; the timeseries for markerset x1, x2, A, B, C, D, E; a boolean hyperparameter indicating right vs. left eye; and an identifying string combining the subject, blink type, and trial number (ie: 'sub1_spon#23')"
   ]
  },
  {
   "cell_type": "code",
   "execution_count": 83,
   "metadata": {},
   "outputs": [
    {
     "ename": "ValueError",
     "evalue": "all the input array dimensions except for the concatenation axis must match exactly, but along dimension 0, the array at index 0 has size 300 and the array at index 1 has size 200",
     "output_type": "error",
     "traceback": [
      "\u001b[31m---------------------------------------------------------------------------\u001b[39m",
      "\u001b[31mValueError\u001b[39m                                Traceback (most recent call last)",
      "\u001b[36mCell\u001b[39m\u001b[36m \u001b[39m\u001b[32mIn[83]\u001b[39m\u001b[32m, line 25\u001b[39m\n\u001b[32m     23\u001b[39m     trial.append(mat[\u001b[33m'\u001b[39m\u001b[33mForSamantha\u001b[39m\u001b[33m'\u001b[39m][\u001b[33m'\u001b[39m\u001b[33mkinem\u001b[39m\u001b[33m'\u001b[39m][blink_key][sub_key][marker_key])\n\u001b[32m     24\u001b[39m trial = np.stack(trial, axis = -\u001b[32m1\u001b[39m) \u001b[38;5;66;03m#reshape to (300, 3, T, 7) where T is number of trials\u001b[39;00m\n\u001b[32m---> \u001b[39m\u001b[32m25\u001b[39m label = \u001b[43mnp\u001b[49m\u001b[43m.\u001b[49m\u001b[43mdstack\u001b[49m\u001b[43m(\u001b[49m\u001b[43m(\u001b[49m\u001b[43mlabel\u001b[49m\u001b[43m,\u001b[49m\u001b[43m \u001b[49m\u001b[43mtrial\u001b[49m\u001b[43m)\u001b[49m\u001b[43m)\u001b[49m \u001b[38;5;66;03m#stack all trials along 2nd axis --> (300, 3, N, 7)\u001b[39;00m\n\u001b[32m     27\u001b[39m \u001b[38;5;28;01mfor\u001b[39;00m num \u001b[38;5;129;01min\u001b[39;00m \u001b[38;5;28mrange\u001b[39m(trial.shape[\u001b[32m1\u001b[39m]):\n\u001b[32m     28\u001b[39m     id_string = sub_key + \u001b[33m'\u001b[39m\u001b[33m_\u001b[39m\u001b[33m'\u001b[39m + blink_key + \u001b[33m'\u001b[39m\u001b[33m#\u001b[39m\u001b[33m'\u001b[39m + \u001b[38;5;28mstr\u001b[39m(num + \u001b[32m1\u001b[39m) \n",
      "\u001b[36mFile \u001b[39m\u001b[32mc:\\Users\\saman\\.conda\\envs\\pytorch_GPU\\Lib\\site-packages\\numpy\\lib\\_shape_base_impl.py:726\u001b[39m, in \u001b[36mdstack\u001b[39m\u001b[34m(tup)\u001b[39m\n\u001b[32m    724\u001b[39m \u001b[38;5;28;01mif\u001b[39;00m \u001b[38;5;129;01mnot\u001b[39;00m \u001b[38;5;28misinstance\u001b[39m(arrs, \u001b[38;5;28mtuple\u001b[39m):\n\u001b[32m    725\u001b[39m     arrs = (arrs,)\n\u001b[32m--> \u001b[39m\u001b[32m726\u001b[39m \u001b[38;5;28;01mreturn\u001b[39;00m \u001b[43m_nx\u001b[49m\u001b[43m.\u001b[49m\u001b[43mconcatenate\u001b[49m\u001b[43m(\u001b[49m\u001b[43marrs\u001b[49m\u001b[43m,\u001b[49m\u001b[43m \u001b[49m\u001b[32;43m2\u001b[39;49m\u001b[43m)\u001b[49m\n",
      "\u001b[31mValueError\u001b[39m: all the input array dimensions except for the concatenation axis must match exactly, but along dimension 0, the array at index 0 has size 300 and the array at index 1 has size 200"
     ]
    }
   ],
   "source": [
    "eye_bool = np.asarray([1, 1, 0, 1, 1, 0, 0, 0])\n",
    "electrode_list = ['u1', 'u2', 'u3', 'u4', 't2']\n",
    "marker_list = ['x1', 'x2', 'u1', 'u2', 'u3', 'u4', 'u5']\n",
    "\n",
    "\n",
    "\n",
    "\n",
    "data = np.zeros((4564, 1, 5))\n",
    "for blink_key in mat['ForSamantha']['emg_with_notchfilter']:\n",
    "    for sub_key in mat['ForSamantha']['emg_with_notchfilter'][blink_key]:\n",
    "        trial = []\n",
    "        for electrode_key in electrode_list:\n",
    "            trial.append(mat['ForSamantha']['emg_with_notchfilter'][blink_key][sub_key][electrode_key])\n",
    "        trial = np.dstack(trial) #reshape to (4564, T, 5) where T is number of trials\n",
    "        data = np.hstack((data, trial)) #stack all trials along 1st axis --> (4564, N, 5)\n",
    "    \n",
    "identifier = []\n",
    "label = np.zeros((300, 3, 1, 7))\n",
    "for blink_key in mat['ForSamantha']['kinem']:\n",
    "    for sub_key in mat['ForSamantha']['kinem'][blink_key]:\n",
    "        trial = []\n",
    "        for marker_key in marker_list:\n",
    "            trial.append(mat['ForSamantha']['kinem'][blink_key][sub_key][marker_key])\n",
    "        trial = np.stack(trial, axis = -1) #reshape to (300, 3, T, 7) where T is number of trials\n",
    "        label = np.dstack((label, trial)) #stack all trials along 2nd axis --> (300, 3, N, 7)\n",
    "        \n",
    "        for num in range(trial.shape[1]):\n",
    "            id_string = sub_key + '_' + blink_key + '#' + str(num + 1) \n",
    "            id_eye = eye_bool[int(sub_key.split('b')[1]) - 1]\n",
    "            identifier.append((id_string, id_eye))\n",
    "\n",
    "\n",
    "X = data[:,1:,:] \n",
    "y = label[:,1:,:,:]\n",
    "identifier = np.asarray(identifier)\n",
    "\n",
    "print(y.shape)\n",
    "  \n",
    "    \n",
    "\n",
    "\n"
   ]
  },
  {
   "cell_type": "code",
   "execution_count": 108,
   "metadata": {},
   "outputs": [
    {
     "name": "stdout",
     "output_type": "stream",
     "text": [
      "(130, 3, 7)\n"
     ]
    }
   ],
   "source": [
    "#print(identifier[-1])\n",
    "\n",
    "#for key in mat[\"ForSamantha\"]['kinem']:\n",
    "   # print(key)\n",
    "\n",
    "print(mat[\"ForSamantha\"]['kinem']['forced']['sub5']['u2'].shape)"
   ]
  },
  {
   "cell_type": "code",
   "execution_count": null,
   "metadata": {},
   "outputs": [],
   "source": []
  }
 ],
 "metadata": {
  "kernelspec": {
   "display_name": "pytorch_GPU",
   "language": "python",
   "name": "python3"
  },
  "language_info": {
   "codemirror_mode": {
    "name": "ipython",
    "version": 3
   },
   "file_extension": ".py",
   "mimetype": "text/x-python",
   "name": "python",
   "nbconvert_exporter": "python",
   "pygments_lexer": "ipython3",
   "version": "3.13.2"
  }
 },
 "nbformat": 4,
 "nbformat_minor": 2
}
